{
 "cells": [
  {
   "cell_type": "markdown",
   "metadata": {},
   "source": [
    "# Capstone projects - Q2"
   ]
  },
  {
   "cell_type": "markdown",
   "metadata": {},
   "source": [
    "Should the Department of Housing Preservation and Development of New York City focus on any particular set of boroughs, ZIP codes, or street (where the complaints are severe) for the specific type of complaints you identified in response to Question 1?"
   ]
  },
  {
   "cell_type": "markdown",
   "metadata": {},
   "source": [
    "    The selected types are the General, plumbing and paint/plaster"
   ]
  },
  {
   "cell_type": "code",
   "execution_count": 1,
   "metadata": {},
   "outputs": [],
   "source": [
    "#Import pandas, numpy and pyplot for data wrangling, editting and viewing\n",
    "import pandas as pd\n",
    "import numpy as np\n",
    "import matplotlib.pyplot as plt\n",
    "#Loading data\n",
    "import types\n",
    "import pandas as pd\n",
    "from botocore.client import Config\n",
    "import ibm_boto3\n",
    "\n",
    "def __iter__(self): return 0\n",
    "\n",
    "# @hidden_cell\n",
    "# The following code accesses a file in your IBM Cloud Object Storage. It includes your credentials.\n",
    "# You might want to remove those credentials before you share the notebook.\n",
    "client_dd7eba6d38744f2ba0e41e1f24c776e4 = ibm_boto3.client(service_name='s3',\n",
    "    ibm_api_key_id='***',\n",
    "    ibm_auth_endpoint=\"https://iam.eu-gb.bluemix.net/oidc/token\",\n",
    "    config=Config(signature_version='oauth'),\n",
    "    endpoint_url='https://s3.eu-geo.objectstorage.service.networklayer.com')\n",
    "body5 = client_dd7eba6d38744f2ba0e41e1f24c776e4.get_object(Bucket='capstoneproject-donotdelete-pr-w1e8lgzafyovbk',Key='fhrw-4uyv.csv')['Body']\n",
    "# add missing __iter__ method, so pandas accepts body as file-like object\n",
    "if not hasattr(body5, \"__iter__\"): body5.__iter__ = types.MethodType( __iter__, body5 )\n",
    "    \n",
    "df = pd.read_csv(body5)"
   ]
  },
  {
   "cell_type": "code",
   "execution_count": 2,
   "metadata": {},
   "outputs": [],
   "source": [
    "#Selecting only open status complaints\n",
    "df_open= df.loc[df['status'] == 'Open']"
   ]
  },
  {
   "cell_type": "code",
   "execution_count": 3,
   "metadata": {},
   "outputs": [
    {
     "data": {
      "text/html": [
       "<div>\n",
       "<style scoped>\n",
       "    .dataframe tbody tr th:only-of-type {\n",
       "        vertical-align: middle;\n",
       "    }\n",
       "\n",
       "    .dataframe tbody tr th {\n",
       "        vertical-align: top;\n",
       "    }\n",
       "\n",
       "    .dataframe thead th {\n",
       "        text-align: right;\n",
       "    }\n",
       "</style>\n",
       "<table border=\"1\" class=\"dataframe\">\n",
       "  <thead>\n",
       "    <tr style=\"text-align: right;\">\n",
       "      <th></th>\n",
       "      <th>created_date</th>\n",
       "      <th>unique_key</th>\n",
       "      <th>complaint_type</th>\n",
       "      <th>incident_zip</th>\n",
       "      <th>incident_address</th>\n",
       "      <th>street_name</th>\n",
       "      <th>address_type</th>\n",
       "      <th>city</th>\n",
       "      <th>resolution_description</th>\n",
       "      <th>borough</th>\n",
       "      <th>latitude</th>\n",
       "      <th>longitude</th>\n",
       "      <th>closed_date</th>\n",
       "      <th>location_type</th>\n",
       "      <th>status</th>\n",
       "    </tr>\n",
       "  </thead>\n",
       "  <tbody>\n",
       "    <tr>\n",
       "      <th>23</th>\n",
       "      <td>2020-02-04T08:25:16.000</td>\n",
       "      <td>45546895</td>\n",
       "      <td>PLUMBING</td>\n",
       "      <td>11226.0</td>\n",
       "      <td>700 OCEAN AVENUE</td>\n",
       "      <td>OCEAN AVENUE</td>\n",
       "      <td>ADDRESS</td>\n",
       "      <td>BROOKLYN</td>\n",
       "      <td>The following complaint conditions are still o...</td>\n",
       "      <td>BROOKLYN</td>\n",
       "      <td>40.646011</td>\n",
       "      <td>-73.960246</td>\n",
       "      <td>NaN</td>\n",
       "      <td>RESIDENTIAL BUILDING</td>\n",
       "      <td>Open</td>\n",
       "    </tr>\n",
       "    <tr>\n",
       "      <th>33</th>\n",
       "      <td>2020-02-04T16:30:03.000</td>\n",
       "      <td>45547914</td>\n",
       "      <td>PLUMBING</td>\n",
       "      <td>10031.0</td>\n",
       "      <td>3580 BROADWAY</td>\n",
       "      <td>BROADWAY</td>\n",
       "      <td>ADDRESS</td>\n",
       "      <td>NEW YORK</td>\n",
       "      <td>The following complaint conditions are still o...</td>\n",
       "      <td>MANHATTAN</td>\n",
       "      <td>40.827816</td>\n",
       "      <td>-73.949427</td>\n",
       "      <td>NaN</td>\n",
       "      <td>RESIDENTIAL BUILDING</td>\n",
       "      <td>Open</td>\n",
       "    </tr>\n",
       "    <tr>\n",
       "      <th>44</th>\n",
       "      <td>2020-02-04T14:11:14.000</td>\n",
       "      <td>45545914</td>\n",
       "      <td>PLUMBING</td>\n",
       "      <td>10029.0</td>\n",
       "      <td>451 EAST  116 STREET</td>\n",
       "      <td>EAST  116 STREET</td>\n",
       "      <td>ADDRESS</td>\n",
       "      <td>NEW YORK</td>\n",
       "      <td>The following complaint conditions are still o...</td>\n",
       "      <td>MANHATTAN</td>\n",
       "      <td>40.795250</td>\n",
       "      <td>-73.933601</td>\n",
       "      <td>NaN</td>\n",
       "      <td>RESIDENTIAL BUILDING</td>\n",
       "      <td>Open</td>\n",
       "    </tr>\n",
       "    <tr>\n",
       "      <th>45</th>\n",
       "      <td>2020-02-04T18:21:36.000</td>\n",
       "      <td>45547929</td>\n",
       "      <td>PLUMBING</td>\n",
       "      <td>10470.0</td>\n",
       "      <td>4300 MARTHA AVENUE</td>\n",
       "      <td>MARTHA AVENUE</td>\n",
       "      <td>ADDRESS</td>\n",
       "      <td>BRONX</td>\n",
       "      <td>The following complaint conditions are still o...</td>\n",
       "      <td>BRONX</td>\n",
       "      <td>40.898894</td>\n",
       "      <td>-73.865022</td>\n",
       "      <td>NaN</td>\n",
       "      <td>RESIDENTIAL BUILDING</td>\n",
       "      <td>Open</td>\n",
       "    </tr>\n",
       "    <tr>\n",
       "      <th>60</th>\n",
       "      <td>2020-02-04T10:59:39.000</td>\n",
       "      <td>45545906</td>\n",
       "      <td>PLUMBING</td>\n",
       "      <td>10033.0</td>\n",
       "      <td>608 WEST  184 STREET</td>\n",
       "      <td>WEST  184 STREET</td>\n",
       "      <td>ADDRESS</td>\n",
       "      <td>NEW YORK</td>\n",
       "      <td>The following complaint conditions are still o...</td>\n",
       "      <td>MANHATTAN</td>\n",
       "      <td>40.851245</td>\n",
       "      <td>-73.932807</td>\n",
       "      <td>NaN</td>\n",
       "      <td>RESIDENTIAL BUILDING</td>\n",
       "      <td>Open</td>\n",
       "    </tr>\n",
       "  </tbody>\n",
       "</table>\n",
       "</div>"
      ],
      "text/plain": [
       "               created_date  unique_key complaint_type  incident_zip  \\\n",
       "23  2020-02-04T08:25:16.000    45546895       PLUMBING       11226.0   \n",
       "33  2020-02-04T16:30:03.000    45547914       PLUMBING       10031.0   \n",
       "44  2020-02-04T14:11:14.000    45545914       PLUMBING       10029.0   \n",
       "45  2020-02-04T18:21:36.000    45547929       PLUMBING       10470.0   \n",
       "60  2020-02-04T10:59:39.000    45545906       PLUMBING       10033.0   \n",
       "\n",
       "        incident_address       street_name address_type      city  \\\n",
       "23      700 OCEAN AVENUE      OCEAN AVENUE      ADDRESS  BROOKLYN   \n",
       "33         3580 BROADWAY          BROADWAY      ADDRESS  NEW YORK   \n",
       "44  451 EAST  116 STREET  EAST  116 STREET      ADDRESS  NEW YORK   \n",
       "45    4300 MARTHA AVENUE     MARTHA AVENUE      ADDRESS     BRONX   \n",
       "60  608 WEST  184 STREET  WEST  184 STREET      ADDRESS  NEW YORK   \n",
       "\n",
       "                               resolution_description    borough   latitude  \\\n",
       "23  The following complaint conditions are still o...   BROOKLYN  40.646011   \n",
       "33  The following complaint conditions are still o...  MANHATTAN  40.827816   \n",
       "44  The following complaint conditions are still o...  MANHATTAN  40.795250   \n",
       "45  The following complaint conditions are still o...      BRONX  40.898894   \n",
       "60  The following complaint conditions are still o...  MANHATTAN  40.851245   \n",
       "\n",
       "    longitude closed_date         location_type status  \n",
       "23 -73.960246         NaN  RESIDENTIAL BUILDING   Open  \n",
       "33 -73.949427         NaN  RESIDENTIAL BUILDING   Open  \n",
       "44 -73.933601         NaN  RESIDENTIAL BUILDING   Open  \n",
       "45 -73.865022         NaN  RESIDENTIAL BUILDING   Open  \n",
       "60 -73.932807         NaN  RESIDENTIAL BUILDING   Open  "
      ]
     },
     "execution_count": 3,
     "metadata": {},
     "output_type": "execute_result"
    }
   ],
   "source": [
    "#Selecting the complaints that where found interesting in Q1\n",
    "df_general = df_open.loc[(df_open['complaint_type'] == 'GENERAL CONSTRUCTION') | ( df_open['complaint_type']=='PAINT - PLASTER') | ( df_open['complaint_type']=='PLUMBING')]\n",
    "df_general.head()"
   ]
  },
  {
   "cell_type": "markdown",
   "metadata": {},
   "source": [
    "What are the most commmon Borough, Incident_zip and street_name?"
   ]
  },
  {
   "cell_type": "code",
   "execution_count": 4,
   "metadata": {
    "scrolled": true
   },
   "outputs": [
    {
     "data": {
      "text/plain": [
       "BROOKLYN         19501\n",
       "BRONX            17792\n",
       "Unspecified      14100\n",
       "MANHATTAN        11165\n",
       "QUEENS            7571\n",
       "STATEN ISLAND     1047\n",
       "Name: borough, dtype: int64"
      ]
     },
     "execution_count": 4,
     "metadata": {},
     "output_type": "execute_result"
    }
   ],
   "source": [
    "#Counting how many times each Borough appears in the DataFrame\n",
    "df_general['borough'].value_counts()"
   ]
  },
  {
   "cell_type": "code",
   "execution_count": 5,
   "metadata": {},
   "outputs": [
    {
     "data": {
      "text/plain": [
       "11226.0    3003\n",
       "10458.0    2196\n",
       "10453.0    1987\n",
       "10467.0    1985\n",
       "10032.0    1810\n",
       "10468.0    1715\n",
       "10031.0    1679\n",
       "10452.0    1659\n",
       "10040.0    1656\n",
       "10457.0    1628\n",
       "Name: incident_zip, dtype: int64"
      ]
     },
     "execution_count": 5,
     "metadata": {},
     "output_type": "execute_result"
    }
   ],
   "source": [
    "#Counting how many times each Incident_zip appears in the data\n",
    "df_general['incident_zip'].value_counts().head(10)"
   ]
  },
  {
   "cell_type": "code",
   "execution_count": 6,
   "metadata": {},
   "outputs": [
    {
     "data": {
      "text/plain": [
       "GRAND CONCOURSE       1164\n",
       "BROADWAY               884\n",
       "KINGS HIGHWAY          797\n",
       "OCEAN AVENUE           760\n",
       "NEW YORK AVENUE        668\n",
       "ST NICHOLAS AVENUE     644\n",
       "RIVERSIDE DRIVE        598\n",
       "AMSTERDAM AVENUE       444\n",
       "EASTERN PARKWAY        425\n",
       "WALTON AVENUE          413\n",
       "Name: street_name, dtype: int64"
      ]
     },
     "execution_count": 6,
     "metadata": {},
     "output_type": "execute_result"
    }
   ],
   "source": [
    "#Counting how many times each Street name appear in the data\n",
    "df_general['street_name'].value_counts().head(10)"
   ]
  },
  {
   "cell_type": "markdown",
   "metadata": {},
   "source": [
    "# Top-bottom analysis. From borough to street level. \n",
    "Brooklyn is the borough with more events registered followed -with not so much difference - by the BRONX. Is Brooklyn really different from the group?"
   ]
  },
  {
   "cell_type": "code",
   "execution_count": 7,
   "metadata": {},
   "outputs": [
    {
     "data": {
      "text/plain": [
       "<matplotlib.axes._subplots.AxesSubplot at 0x7f7578f03c88>"
      ]
     },
     "execution_count": 7,
     "metadata": {},
     "output_type": "execute_result"
    },
    {
     "data": {
      "image/png": "[encoded data removed]",
      "text/plain": [
       "<Figure size 864x432 with 1 Axes>"
      ]
     },
     "metadata": {
      "needs_background": "light"
     },
     "output_type": "display_data"
    }
   ],
   "source": [
    "#Box plot of borough in the df_general\n",
    "df_general['borough'].value_counts().plot(kind='box',figsize=[12,6],grid=True)"
   ]
  },
  {
   "cell_type": "markdown",
   "metadata": {},
   "source": [
    "We don't have a specific borough that appears to be a outlier within the group.\n",
    "\n",
    "Let's analyze instead the distribution for the ZIP codes."
   ]
  },
  {
   "cell_type": "code",
   "execution_count": 8,
   "metadata": {},
   "outputs": [
    {
     "data": {
      "text/plain": [
       "<matplotlib.axes._subplots.AxesSubplot at 0x7f7578e510b8>"
      ]
     },
     "execution_count": 8,
     "metadata": {},
     "output_type": "execute_result"
    },
    {
     "data": {
      "image/png": "[encoded data removed]",
      "text/plain": [
       "<Figure size 864x432 with 1 Axes>"
      ]
     },
     "metadata": {
      "needs_background": "light"
     },
     "output_type": "display_data"
    }
   ],
   "source": [
    "#Counting the appeareance of each incident_zip\n",
    "df_zipFreq = df_general['incident_zip'].value_counts()\n",
    "#let's see how is the group statistical distribution and maybe we can find outliers that could guide us for a solution.\n",
    "df_zipFreq.plot(kind='box',figsize=[12,6],grid=True)"
   ]
  },
  {
   "cell_type": "markdown",
   "metadata": {},
   "source": [
    "All the values higher than the third quartile are considered outliers, this are all above 1000 cases per ZIP code.\n",
    "Which are this outliers?"
   ]
  },
  {
   "cell_type": "code",
   "execution_count": 9,
   "metadata": {},
   "outputs": [
    {
     "data": {
      "text/plain": [
       "24"
      ]
     },
     "execution_count": 9,
     "metadata": {},
     "output_type": "execute_result"
    }
   ],
   "source": [
    "#Selecting the Zip code with an appearence higher than 1000\n",
    "df_zipOutFreq = df_zipFreq.loc[df_zipFreq > 1000]\n",
    "len(df_zipOutFreq)"
   ]
  },
  {
   "cell_type": "markdown",
   "metadata": {},
   "source": [
    "How important are this outliers as a subgroup? Which % of the complaints do they represent?"
   ]
  },
  {
   "cell_type": "code",
   "execution_count": 10,
   "metadata": {},
   "outputs": [
    {
     "data": {
      "text/plain": [
       "53.30058551964869"
      ]
     },
     "execution_count": 10,
     "metadata": {},
     "output_type": "execute_result"
    }
   ],
   "source": [
    "# Calculation of % of total complaints for the Outliers \n",
    "sum(df_zipOutFreq)/sum(df_zipFreq)*100"
   ]
  },
  {
   "cell_type": "markdown",
   "metadata": {},
   "source": [
    "More than 50% of the complaints! That's a lot\n",
    "\n",
    "Let's see this in a different perspective. We can calculate the incremental graph of complaints of the zip codes. Since we have them already ordered by frenquency of appeareance, we expect to have a curve very steep at the beginning. "
   ]
  },
  {
   "cell_type": "code",
   "execution_count": 11,
   "metadata": {},
   "outputs": [
    {
     "ename": "NameError",
     "evalue": "name 'f_zip' is not defined",
     "output_type": "error",
     "traceback": [
      "\u001b[0;31m---------------------------------------------------------------------------\u001b[0m",
      "\u001b[0;31mNameError\u001b[0m                                 Traceback (most recent call last)",
      "\u001b[0;32m<ipython-input-11-b6c5dc606776>\u001b[0m in \u001b[0;36m<module>\u001b[0;34m\u001b[0m\n\u001b[1;32m      1\u001b[0m \u001b[0mf_zipIncrement\u001b[0m \u001b[0;34m=\u001b[0m \u001b[0;34m[\u001b[0m\u001b[0;34m]\u001b[0m\u001b[0;34m\u001b[0m\u001b[0;34m\u001b[0m\u001b[0m\n\u001b[0;32m----> 2\u001b[0;31m \u001b[0;32mfor\u001b[0m \u001b[0mi\u001b[0m \u001b[0;32min\u001b[0m \u001b[0mnp\u001b[0m\u001b[0;34m.\u001b[0m\u001b[0marange\u001b[0m\u001b[0;34m(\u001b[0m\u001b[0;36m0\u001b[0m\u001b[0;34m,\u001b[0m\u001b[0mlen\u001b[0m\u001b[0;34m(\u001b[0m\u001b[0mf_zip\u001b[0m\u001b[0;34m)\u001b[0m\u001b[0;34m)\u001b[0m\u001b[0;34m:\u001b[0m    \u001b[0;31m#To calculate the increment it is needed to go through the f_zip\u001b[0m\u001b[0;34m\u001b[0m\u001b[0;34m\u001b[0m\u001b[0m\n\u001b[0m\u001b[1;32m      3\u001b[0m         \u001b[0;32mif\u001b[0m \u001b[0mi\u001b[0m \u001b[0;34m==\u001b[0m \u001b[0;36m0\u001b[0m\u001b[0;34m:\u001b[0m\u001b[0;34m\u001b[0m\u001b[0;34m\u001b[0m\u001b[0m\n\u001b[1;32m      4\u001b[0m             \u001b[0mf_zipIncrement\u001b[0m\u001b[0;34m.\u001b[0m\u001b[0mappend\u001b[0m\u001b[0;34m(\u001b[0m\u001b[0mf_zip\u001b[0m\u001b[0;34m.\u001b[0m\u001b[0miloc\u001b[0m\u001b[0;34m[\u001b[0m\u001b[0mi\u001b[0m\u001b[0;34m]\u001b[0m\u001b[0;34m)\u001b[0m \u001b[0;31m#values for the initial point\u001b[0m\u001b[0;34m\u001b[0m\u001b[0;34m\u001b[0m\u001b[0m\n\u001b[1;32m      5\u001b[0m         \u001b[0;32melse\u001b[0m\u001b[0;34m:\u001b[0m\u001b[0;34m\u001b[0m\u001b[0;34m\u001b[0m\u001b[0m\n",
      "\u001b[0;31mNameError\u001b[0m: name 'f_zip' is not defined"
     ]
    }
   ],
   "source": [
    "f_zipIncrement = []\n",
    "for i in np.arange(0,len(df_zipFreq)):    #To calculate the increment it is needed to go through the f_zip\n",
    "        if i == 0:\n",
    "            f_zipIncrement.append(f_zip.iloc[i]) #values for the initial point\n",
    "        else:                       \n",
    "            f_zipIncrement.append(f_zip.iloc[i]+f_zipIncrement[i-1])"
   ]
  },
  {
   "cell_type": "code",
   "execution_count": null,
   "metadata": {},
   "outputs": [],
   "source": [
    "#plotting the frequency increment\n",
    "fig = plt.plot(np.arange(0,len(f_zip)),f_zipIncrement)\n",
    "#Marking the outlier group threshold\n",
    "plt.axvline(x=24,color='red')\n",
    "plt.title('Increment of complaints through the 175 Zip_Codes')\n",
    "plt.xlabel('Zip codes')\n",
    "plt.ylabel('Complaints')\n",
    "plt.legend(['Incremental number of cmplaints','Zip codes outliers'])"
   ]
  },
  {
   "cell_type": "markdown",
   "metadata": {},
   "source": [
    "We got somehow what we expected. \n",
    "\n",
    "Now, we will take a look deeper in the outliers subgroup. Let's approach it in different ways:\n",
    "- Box plot of the subgroup. Any outlier?\n",
    "- Which is the most common Borough?"
   ]
  },
  {
   "cell_type": "code",
   "execution_count": null,
   "metadata": {},
   "outputs": [],
   "source": [
    "#Box plot of the subgroup\n",
    "df_zipOutFreq.plot(kind='box')"
   ]
  },
  {
   "cell_type": "code",
   "execution_count": null,
   "metadata": {},
   "outputs": [],
   "source": [
    "#Zip code of the outlier\n",
    "df_zipOutFreq.index[0]"
   ]
  },
  {
   "cell_type": "markdown",
   "metadata": {},
   "source": [
    "Seems that the Zip code 11226 is a outlier within the outlier group."
   ]
  },
  {
   "cell_type": "code",
   "execution_count": null,
   "metadata": {},
   "outputs": [],
   "source": [
    "#DF of the outlier zip code\n",
    "df_11226 = df_general.loc[df_general['incident_zip'] == df_zipOutFreq.index[0]]"
   ]
  },
  {
   "cell_type": "markdown",
   "metadata": {},
   "source": [
    "This belongs to the borough..."
   ]
  },
  {
   "cell_type": "code",
   "execution_count": null,
   "metadata": {},
   "outputs": [],
   "source": [
    "#Borough of df_11226\n",
    "df_11226['borough'].unique()"
   ]
  },
  {
   "cell_type": "code",
   "execution_count": null,
   "metadata": {},
   "outputs": [],
   "source": [
    "#Which are the street of this zip code that had complaints? and how many?\n",
    "df_11226['street_name'].value_counts()"
   ]
  },
  {
   "cell_type": "markdown",
   "metadata": {},
   "source": [
    "Following the Top-bottom analysis we got that the 11226 Zip code has is one of the most incedential neighbourghoods in the dataset, however is this due to the size of this Zip code? We can see that there isn't any particular street with a very high number of incidences. Data such the territory size of a the zip code, the density of population and number of buildings should be required to decide if we are not being misleaded by the numbers."
   ]
  }
 ],
 "metadata": {
  "kernelspec": {
   "display_name": "Python 3",
   "language": "python",
   "name": "python3"
  },
  "language_info": {
   "codemirror_mode": {
    "name": "ipython",
    "version": 3
   },
   "file_extension": ".py",
   "mimetype": "text/x-python",
   "name": "python",
   "nbconvert_exporter": "python",
   "pygments_lexer": "ipython3",
   "version": "3.6.9"
  }
 },
 "nbformat": 4,
 "nbformat_minor": 2
}
